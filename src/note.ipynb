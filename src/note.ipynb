{
 "cells": [
  {
   "cell_type": "markdown",
   "metadata": {},
   "source": [
    "# Trajectory-Based Continuous Collision Detection (T-CCD) For 2D Particle Systems\n",
    "\n",
    "The idea here is to develop a mathematical model for the development of T-CCD.\n",
    "\n",
    "Initial Idea:\n",
    "- Use the point of intersection to determine if the trajectory of 2 objects has the potential to collide.\n",
    "\n",
    "Suggested Idea by Sir. Roland:\n",
    "- Use Newton's second law of motion $(\\vec{F} = m\\vec{a})$.\n",
    "\n",
    "Apply this ideas to Continuous Collision Detection (CCD).\n",
    "\n",
    "## Initial Idea\n",
    "\n",
    "**Point of Intersection**\n",
    "\n",
    "- Let $\\vec{p_1}$ and $\\vec{p_2}$ be the initial positions of the 2 objects.\n",
    "- Let $\\vec{v_1}$ and $\\vec{v_2}$ be their velocities.\n",
    "- Let $t$ be the time when they intersect.\n",
    "\n",
    "The parametric motion,\n",
    "\n",
    "$$\n",
    "\\begin{align}\n",
    "r_1(t) & = \\vec{p_1} + \\vec{v_1}t \\\\\n",
    "r_2(t) & = \\vec{p_2} + \\vec{v_2}t\n",
    "\\end{align}\n",
    "$$\n",
    "\n",
    "The intersection occurs when,\n",
    "\n",
    "$$\n",
    "\\begin{align}\n",
    "r_1(t) & = r_2(t) \\\\\n",
    "\\vec{p_1} + \\vec{v_1}t & = \\vec{p_2} + \\vec{v_2}t\n",
    "\\end{align}\n",
    "$$\n",
    "\n",
    "Rearrange the equation to solve for $t$,\n",
    "\n",
    "$$\n",
    "(\\vec{v_1} - \\vec{v_2})t = \\vec{p_2} - \\vec{p_1}\n",
    "$$\n",
    "\n",
    "If the velocities are not parallel ($\\vec{v_1} \\neq \\vec{v_2}$),\n",
    "\n",
    "$$\n",
    "t = \\frac{\\vec{p_2} - \\vec{p_1}}{\\vec{v_1} - \\vec{v_2}}\n",
    "$$\n",
    "\n",
    "## Suggested Idea\n",
    "\n",
    "$$\n",
    "\\vec{F} = m\\vec{a}\n",
    "$$"
   ]
  },
  {
   "cell_type": "markdown",
   "metadata": {},
   "source": []
  }
 ],
 "metadata": {
  "language_info": {
   "name": "python"
  }
 },
 "nbformat": 4,
 "nbformat_minor": 2
}
